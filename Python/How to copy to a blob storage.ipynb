{
  "cells": [
    {
      "metadata": {
        "collapsed": true
      },
      "cell_type": "markdown",
      "source": "# How to copy to/from the same blob container"
    },
    {
      "metadata": {
        "trusted": true
      },
      "cell_type": "code",
      "source": "#https://github.com/Azure/azure-storage-python/blob/master/samples/blob/block_blob_usage.py\n#https://stackoverflow.com/questions/32500935/python-how-to-move-or-copy-azure-blob-from-one-container-to-another\n#https://docs.microsoft.com/en-us/azure/storage/blobs/storage-quickstart-blobs-python\n#https://docs.microsoft.com/en-us/python/api/azure-storage-blob/azure.storage.blob.blockblobservice.BlockBlobService?view=azure-python#copy-blob-container-name--blob-name--copy-source--metadata-none--source-if-modified-since-none--source-if-unmodified-since-none--source-if-match-none--source-if-none-match-none--destination-if-modified-since-none--destination-if-unmodified-since-none--destination-if-match-none--destination-if-none-match-none--destination-lease-id-none--source-lease-id-none--timeout-none--requires-sync-none-\n#REST https://docs.microsoft.com/en-us/rest/api/storageservices/service-sas-examples\n#https://azure-storage.readthedocs.io/ref/azure.storage.blob.blockblobservice.html\n#https://stackoverflow.com/questions/25038429/azure-shared-access-signature-signature-did-not-match\n#https://social.msdn.microsoft.com/Forums/sharepoint/en-US/7c4b8021-c65d-45e5-8442-1dc8c844a761/how-to-create-shared-access-signature-of-blob-in-azure-blob-storage-using-rest-api-c?forum=windowsazuredata\n\n!pip install azure-storage-blob\n!pip install azure-storage-common",
      "execution_count": 1,
      "outputs": [
        {
          "output_type": "stream",
          "text": "Requirement already satisfied: azure-storage-blob in /home/nbuser/anaconda3_501/lib/python3.6/site-packages (1.5.0)\nRequirement already satisfied: azure-common>=1.1.5 in /home/nbuser/anaconda3_501/lib/python3.6/site-packages (from azure-storage-blob) (1.1.18)\nRequirement already satisfied: azure-storage-common~=1.4 in /home/nbuser/anaconda3_501/lib/python3.6/site-packages (from azure-storage-blob) (1.4.0)\nRequirement already satisfied: cryptography in /home/nbuser/anaconda3_501/lib/python3.6/site-packages (from azure-storage-common~=1.4->azure-storage-blob) (2.3.1)\nRequirement already satisfied: requests in /home/nbuser/anaconda3_501/lib/python3.6/site-packages (from azure-storage-common~=1.4->azure-storage-blob) (2.21.0)\nRequirement already satisfied: python-dateutil in /home/nbuser/anaconda3_501/lib/python3.6/site-packages (from azure-storage-common~=1.4->azure-storage-blob) (2.7.5)\nRequirement already satisfied: idna>=2.1 in /home/nbuser/anaconda3_501/lib/python3.6/site-packages (from cryptography->azure-storage-common~=1.4->azure-storage-blob) (2.7)\nRequirement already satisfied: asn1crypto>=0.21.0 in /home/nbuser/anaconda3_501/lib/python3.6/site-packages (from cryptography->azure-storage-common~=1.4->azure-storage-blob) (0.24.0)\nRequirement already satisfied: six>=1.4.1 in /home/nbuser/anaconda3_501/lib/python3.6/site-packages (from cryptography->azure-storage-common~=1.4->azure-storage-blob) (1.11.0)\nRequirement already satisfied: cffi!=1.11.3,>=1.7 in /home/nbuser/anaconda3_501/lib/python3.6/site-packages (from cryptography->azure-storage-common~=1.4->azure-storage-blob) (1.11.5)\nRequirement already satisfied: chardet<3.1.0,>=3.0.2 in /home/nbuser/anaconda3_501/lib/python3.6/site-packages (from requests->azure-storage-common~=1.4->azure-storage-blob) (3.0.4)\nRequirement already satisfied: certifi>=2017.4.17 in /home/nbuser/anaconda3_501/lib/python3.6/site-packages (from requests->azure-storage-common~=1.4->azure-storage-blob) (2018.10.15)\nRequirement already satisfied: urllib3<1.25,>=1.21.1 in /home/nbuser/anaconda3_501/lib/python3.6/site-packages (from requests->azure-storage-common~=1.4->azure-storage-blob) (1.23)\nRequirement already satisfied: pycparser in /home/nbuser/anaconda3_501/lib/python3.6/site-packages (from cffi!=1.11.3,>=1.7->cryptography->azure-storage-common~=1.4->azure-storage-blob) (2.19)\nRequirement already satisfied: azure-storage-common in /home/nbuser/anaconda3_501/lib/python3.6/site-packages (1.4.0)\nRequirement already satisfied: python-dateutil in /home/nbuser/anaconda3_501/lib/python3.6/site-packages (from azure-storage-common) (2.7.5)\nRequirement already satisfied: azure-common>=1.1.5 in /home/nbuser/anaconda3_501/lib/python3.6/site-packages (from azure-storage-common) (1.1.18)\nRequirement already satisfied: cryptography in /home/nbuser/anaconda3_501/lib/python3.6/site-packages (from azure-storage-common) (2.3.1)\nRequirement already satisfied: requests in /home/nbuser/anaconda3_501/lib/python3.6/site-packages (from azure-storage-common) (2.21.0)\nRequirement already satisfied: six>=1.5 in /home/nbuser/anaconda3_501/lib/python3.6/site-packages (from python-dateutil->azure-storage-common) (1.11.0)\nRequirement already satisfied: idna>=2.1 in /home/nbuser/anaconda3_501/lib/python3.6/site-packages (from cryptography->azure-storage-common) (2.7)\nRequirement already satisfied: asn1crypto>=0.21.0 in /home/nbuser/anaconda3_501/lib/python3.6/site-packages (from cryptography->azure-storage-common) (0.24.0)\nRequirement already satisfied: cffi!=1.11.3,>=1.7 in /home/nbuser/anaconda3_501/lib/python3.6/site-packages (from cryptography->azure-storage-common) (1.11.5)\nRequirement already satisfied: certifi>=2017.4.17 in /home/nbuser/anaconda3_501/lib/python3.6/site-packages (from requests->azure-storage-common) (2018.10.15)\nRequirement already satisfied: chardet<3.1.0,>=3.0.2 in /home/nbuser/anaconda3_501/lib/python3.6/site-packages (from requests->azure-storage-common) (3.0.4)\nRequirement already satisfied: urllib3<1.25,>=1.21.1 in /home/nbuser/anaconda3_501/lib/python3.6/site-packages (from requests->azure-storage-common) (1.23)\nRequirement already satisfied: pycparser in /home/nbuser/anaconda3_501/lib/python3.6/site-packages (from cffi!=1.11.3,>=1.7->cryptography->azure-storage-common) (2.19)\n",
          "name": "stdout"
        }
      ]
    },
    {
      "metadata": {
        "trusted": true
      },
      "cell_type": "code",
      "source": "from datetime import datetime, timedelta\nfrom azure.storage.blob import BlockBlobService,BlobPermissions\n\naccount_key = '<>'\naccount_name='<>'\nblob_name = 'test1.txt'\ncontainer_name= 'container1'\ncopy_from = 'container1/f1'\ncopy_to= 'container1/f2'\nblob_name='test1.txt'\n\nblob_service = BlockBlobService(account_name=account_name, account_key=account_key)\n\n#Create a client side SAS token\nsas_token1 = blob_service.generate_container_shared_access_signature(container_name,BlobPermissions.WRITE |BlobPermissions.READ , datetime.utcnow() + timedelta(hours=4))\n\n#Create a SAS block service\nblob_service2 = BlockBlobService(account_name=account_name, sas_token=sas_token1)\n\n#Create a sas url\nblob_url = blob_service2.make_blob_url(copy_from,blob_name, sas_token=sas_token1)\n\n#copy from blob_url to the copy_to location \nblob_service2.copy_blob(copy_to,blob_name=blob_name, copy_source=blob_url)\n\nprint('Debug: Showing contents of source file')\nprint( blob_service2.get_blob_to_text(copy_from, blob_name).content )\nprint('Debug: Showing contents of destination (copied) file')\nprint( blob_service2.get_blob_to_text(copy_to, blob_name).content ) #should exist now\n\n",
      "execution_count": 2,
      "outputs": [
        {
          "output_type": "stream",
          "text": "Debug: Showing contents of source file\na|1\r\nb|2\r\nc|3\r\nd|4\nDebug: Showing contents of destination (copied) file\na|1\r\nb|2\r\nc|3\r\nd|4\n",
          "name": "stdout"
        }
      ]
    },
    {
      "metadata": {
        "trusted": true
      },
      "cell_type": "code",
      "source": "\n",
      "execution_count": null,
      "outputs": []
    },
    {
      "metadata": {
        "trusted": true
      },
      "cell_type": "code",
      "source": "",
      "execution_count": null,
      "outputs": []
    },
    {
      "metadata": {
        "trusted": true
      },
      "cell_type": "code",
      "source": "",
      "execution_count": null,
      "outputs": []
    }
  ],
  "metadata": {
    "kernelspec": {
      "name": "python36",
      "display_name": "Python 3.6",
      "language": "python"
    },
    "language_info": {
      "mimetype": "text/x-python",
      "nbconvert_exporter": "python",
      "name": "python",
      "pygments_lexer": "ipython3",
      "version": "3.6.6",
      "file_extension": ".py",
      "codemirror_mode": {
        "version": 3,
        "name": "ipython"
      }
    }
  },
  "nbformat": 4,
  "nbformat_minor": 2
}